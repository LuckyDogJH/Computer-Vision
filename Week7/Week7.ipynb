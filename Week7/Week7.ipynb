{
 "cells": [
  {
   "cell_type": "code",
   "execution_count": 1,
   "metadata": {},
   "outputs": [],
   "source": [
    "import numpy as np\n",
    "import matplotlib.pyplot as plt\n",
    "import math\n",
    "from sympy import *\n",
    "\n",
    "def test_points(n_in, n_out):\n",
    "    a = (np.random.rand(n_in) - 0.5) * 10\n",
    "    b = np.vstack((a, a * 0.5 + np.random.randn(n_in) * 0.25))\n",
    "    points = np.hstack((b, 2 * np.random.randn(2, n_out)))\n",
    "    return np.random.permutation(points.T).T ## shuffle list"
   ]
  },
  {
   "cell_type": "markdown",
   "metadata": {},
   "source": [
    "# Ex 7.1-7.6"
   ]
  },
  {
   "cell_type": "code",
   "execution_count": 8,
   "metadata": {},
   "outputs": [],
   "source": [
    "class RANSAC_Lines():\n",
    "    def __init__(self):\n",
    "        self.a = 0  ## No use\n",
    "        \n",
    "    def Generate_points(self, n_in, n_out):\n",
    "        a = (np.random.rand(n_in) - 0.5) * 10\n",
    "        b = np.vstack((a, a * 0.5 + np.random.randn(n_in) * 0.25))\n",
    "        points = np.hstack((b, 2 * np.random.randn(2, n_out)))\n",
    "        return np.random.permutation(points.T).T ## shuffle list\n",
    "    \n",
    "    def Estimate_line(self, point1, point2):\n",
    "        ### sympy use list not ndarray, cannot use list and ndarray togather\n",
    "        \n",
    "        point1_list = []\n",
    "        point2_list = []\n",
    "        for i, j in zip(point1, point2):\n",
    "            point1_list.append(list(i)[0])\n",
    "            point2_list.append(list(j)[0])\n",
    "        \n",
    "        x = symbols('x')\n",
    "        y = symbols('y')\n",
    "        r = symbols('r')\n",
    "    \n",
    "        f1 = point1_list[0]*x + point1_list[1]*y + point1_list[2]*r\n",
    "        f2 = point2_list[0]*x + point2_list[1]*y + point2_list[2]*r\n",
    "        f3 = x**2 + y**2 - 1\n",
    "    \n",
    "        line_param = solve([f1,f2,f3], [x, y, r])\n",
    "        \n",
    "        try:\n",
    "            line_param = np.array(line_param, dtype = 'float32')\n",
    "        except:\n",
    "            print(line_param)\n",
    "        \n",
    "        for i in line_param:\n",
    "            if i[2] >= 0: \n",
    "                if math.atan2(i[1], i[0]) >=0 and math.atan2(i[1], i[0]) <= 2*math.pi:\n",
    "                    final_line = i\n",
    "                elif math.atan2(i[1], i[0]) < 0 and math.atan2(i[1], i[0]) + 2*(math.pi) < 2 * math.pi:\n",
    "                    final_line = i\n",
    "            \n",
    "        return np.asarray(final_line).reshape(-1,1).astype('float32')\n",
    "    \n",
    "    def Get_consensus(self, line, points, threshold):\n",
    "        consensus = 0\n",
    "        Points = []\n",
    "        for point in points.T:\n",
    "            distance = np.abs(line.T @ point.T)\n",
    "            if distance <= threshold:\n",
    "                consensus = consensus + 1\n",
    "                Points.append(point)\n",
    "        return consensus, Points\n",
    "    \n",
    "    def Random_get2points(self, points):\n",
    "        point_index = []\n",
    "        for i in range(points.shape[1]):\n",
    "            point_index.append(i)\n",
    "        ### Incase the same point is selected \n",
    "        point1_index = point_index[np.random.randint(len(point_index))]\n",
    "        point_index.remove(point1_index)\n",
    "        \n",
    "        point2_index = point_index[np.random.randint(len(point_index))]\n",
    "        \n",
    "        point1 = points[:, point1_index]\n",
    "        point2 = points[:, point2_index]\n",
    "        return point1.reshape(3,1), point2.reshape(3,1)\n",
    "    \n",
    "    \n",
    "    def forward(self, n_in, n_out, iterations, thresh):\n",
    "        points = self.Generate_points(n_in, n_out)\n",
    "        points_H = np.vstack((points, np.ones((1, points.shape[1])))) ## homogenous coordinates\n",
    "        Max_consensus = 0\n",
    "        count = 0\n",
    "        for i in range(iterations):\n",
    "            point1, point2 = self.Random_get2points(points_H)\n",
    "            line = self.Estimate_line(point1, point2)\n",
    "            consensus, inlier_points = self.Get_consensus(line, points_H, thresh)\n",
    "            if consensus > Max_consensus:\n",
    "                Max_consensus = consensus\n",
    "                finalLine = line\n",
    "                final_inlierPoints = inlier_points\n",
    "            count = count + 1\n",
    "        print('Max_consensus:', Max_consensus)\n",
    "        return points, finalLine, final_inlierPoints"
   ]
  },
  {
   "cell_type": "code",
   "execution_count": 9,
   "metadata": {},
   "outputs": [
    {
     "name": "stdout",
     "output_type": "stream",
     "text": [
      "Max_consensus: 20\n"
     ]
    },
    {
     "data": {
      "text/plain": [
       "[<matplotlib.lines.Line2D at 0x7fccde5a7820>]"
      ]
     },
     "execution_count": 9,
     "metadata": {},
     "output_type": "execute_result"
    },
    {
     "data": {
      "image/png": "[encoded data removed]",
      "text/plain": [
       "<Figure size 576x576 with 1 Axes>"
      ]
     },
     "metadata": {
      "needs_background": "light"
     },
     "output_type": "display_data"
    }
   ],
   "source": [
    "estimate_line = RANSAC_Lines()\n",
    "points, finalLine, final_inlierPoints = estimate_line.forward(20, 5, 400, 0.5)\n",
    "\n",
    "left_x = -5\n",
    "left_y = -(finalLine[2] + finalLine[0]*left_x)/finalLine[1]\n",
    "\n",
    "right_x = 8\n",
    "right_y = -(finalLine[2] + finalLine[0]*right_x)/finalLine[1]\n",
    "\n",
    "plt.figure(figsize=(8,8))\n",
    "plt.scatter(points[0], points[1])\n",
    "plt.plot([left_x, right_x], [left_y, right_y], 'r')"
   ]
  },
  {
   "cell_type": "markdown",
   "metadata": {},
   "source": [
    "# Ex 7.7"
   ]
  },
  {
   "cell_type": "code",
   "execution_count": 14,
   "metadata": {},
   "outputs": [],
   "source": [
    "def pca_line(points):\n",
    "    d = np.cov(points)[:,0]\n",
    "    d /= np.linalg.norm(d)\n",
    "    l = [d[1], -d[0]]\n",
    "    l.append(-(l @ points.mean(1)))\n",
    "    return l"
   ]
  },
  {
   "cell_type": "code",
   "execution_count": 15,
   "metadata": {},
   "outputs": [
    {
     "data": {
      "text/plain": [
       "[<matplotlib.lines.Line2D at 0x7fccddaf2190>]"
      ]
     },
     "execution_count": 15,
     "metadata": {},
     "output_type": "execute_result"
    },
    {
     "data": {
      "image/png": "[encoded data removed]",
      "text/plain": [
       "<Figure size 576x576 with 1 Axes>"
      ]
     },
     "metadata": {
      "needs_background": "light"
     },
     "output_type": "display_data"
    }
   ],
   "source": [
    "points = (np.array(final_inlierPoints).T)[:2]\n",
    "l = pca_line(points)\n",
    "\n",
    "left_x = -5\n",
    "left_y = -(l[2] + l[0]*left_x)/l[1]\n",
    "\n",
    "right_x = 8\n",
    "right_y = -(l[2] + l[0]*right_x)/l[1]\n",
    "\n",
    "plt.figure(figsize=(8,8))\n",
    "plt.scatter(points[0], points[1])\n",
    "plt.plot([left_x, right_x], [left_y, right_y], 'r')"
   ]
  },
  {
   "cell_type": "markdown",
   "metadata": {},
   "source": [
    "# Ex 7.8"
   ]
  },
  {
   "cell_type": "code",
   "execution_count": 51,
   "metadata": {},
   "outputs": [],
   "source": [
    "class RANSAC_Lines_Criteria():\n",
    "    def __init__(self):\n",
    "        self.p = 0.99  \n",
    "        self.n = 2\n",
    "        \n",
    "        \n",
    "    def Generate_points(self, n_in, n_out):\n",
    "        a = (np.random.rand(n_in) - 0.5) * 10\n",
    "        b = np.vstack((a, a * 0.5 + np.random.randn(n_in) * 0.25))\n",
    "        points = np.hstack((b, 2 * np.random.randn(2, n_out)))\n",
    "        return np.random.permutation(points.T).T ## shuffle list\n",
    "    \n",
    "    def Estimate_line(self, point1, point2):\n",
    "        ### sympy use list not ndarray, cannot use list and ndarray togather\n",
    "        \n",
    "        point1_list = []\n",
    "        point2_list = []\n",
    "        for i, j in zip(point1, point2):\n",
    "            point1_list.append(list(i)[0])\n",
    "            point2_list.append(list(j)[0])\n",
    "        \n",
    "        x = symbols('x')\n",
    "        y = symbols('y')\n",
    "        r = symbols('r')\n",
    "    \n",
    "        f1 = point1_list[0]*x + point1_list[1]*y + point1_list[2]*r\n",
    "        f2 = point2_list[0]*x + point2_list[1]*y + point2_list[2]*r\n",
    "        f3 = x**2 + y**2 - 1\n",
    "    \n",
    "        line_param = solve([f1,f2,f3], [x, y, r])\n",
    "        \n",
    "        try:\n",
    "            line_param = np.array(line_param, dtype = 'float32')\n",
    "        except:\n",
    "            print(line_param)\n",
    "        \n",
    "        for i in line_param:\n",
    "            if i[2] >= 0: \n",
    "                if math.atan2(i[1], i[0]) >=0 and math.atan2(i[1], i[0]) <= 2*math.pi:\n",
    "                    final_line = i\n",
    "                elif math.atan2(i[1], i[0]) < 0 and math.atan2(i[1], i[0]) + 2*(math.pi) < 2 * math.pi:\n",
    "                    final_line = i\n",
    "            \n",
    "        return np.asarray(final_line).reshape(-1,1).astype('float32')\n",
    "    \n",
    "    def Get_consensus(self, line, points, threshold):\n",
    "        consensus = 0\n",
    "        Points = []\n",
    "        for point in points.T:\n",
    "            distance = np.abs(line.T @ point.T)\n",
    "            if distance <= threshold:\n",
    "                consensus = consensus + 1\n",
    "                Points.append(point)\n",
    "        return consensus, Points\n",
    "    \n",
    "    def Random_get2points(self, points):\n",
    "        point_index = []\n",
    "        for i in range(points.shape[1]):\n",
    "            point_index.append(i)\n",
    "        ### Incase the same point is selected \n",
    "        point1_index = point_index[np.random.randint(len(point_index))]\n",
    "        point_index.remove(point1_index)\n",
    "        \n",
    "        point2_index = point_index[np.random.randint(len(point_index))]\n",
    "        \n",
    "        point1 = points[:, point1_index]\n",
    "        point2 = points[:, point2_index]\n",
    "        return point1.reshape(3,1), point2.reshape(3,1)\n",
    "    \n",
    "    \n",
    "    def forward(self, n_in, n_out, iterations, thresh):\n",
    "        points = self.Generate_points(n_in, n_out)\n",
    "        points_H = np.vstack((points, np.ones((1, points.shape[1])))) ## homogenous coordinates\n",
    "        Max_consensus = 0\n",
    "        count = 0\n",
    "        for i in range(iterations):\n",
    "            point1, point2 = self.Random_get2points(points_H)\n",
    "            line = self.Estimate_line(point1, point2)\n",
    "            consensus, inlier_Points = self.Get_consensus(line, points_H, thresh)\n",
    "            if consensus > Max_consensus:\n",
    "                Max_consensus = consensus\n",
    "                finalLine = line\n",
    "                final_inlierPoints = inlier_Points\n",
    "            \n",
    "            count = count + 1\n",
    "            ## Set Criteria\n",
    "            eta = 1 - Max_consensus/(n_in + n_out)\n",
    "            if eta == 1:\n",
    "                eta = n_out/(n_in + n_out)   ## Incase the denominator of N is 0\n",
    "            N = int(math.log(1-self.p)/math.log((1 - math.pow((1 - eta), self.n))))\n",
    "            if N <= count:\n",
    "                break\n",
    "        print(' Real Points:', n_in)\n",
    "        print(' Noise Points:', n_out)\n",
    "        print(' Max Consensus:', Max_consensus)\n",
    "        return points, finalLine, final_inlierPoints,count"
   ]
  },
  {
   "cell_type": "code",
   "execution_count": 52,
   "metadata": {},
   "outputs": [],
   "source": [
    "def pca_line(points):\n",
    "    d = np.cov(points)[:,0]\n",
    "    d /= np.linalg.norm(d)\n",
    "    l = [d[1], -d[0]]\n",
    "    l.append(-(l @ points.mean(1)))\n",
    "    return l"
   ]
  },
  {
   "cell_type": "code",
   "execution_count": 54,
   "metadata": {},
   "outputs": [
    {
     "name": "stdout",
     "output_type": "stream",
     "text": [
      " Real Points: 100\n",
      " Noise Points: 40\n",
      " Max Consensus: 99\n",
      " Set Iterations:100\n",
      " Termiante Iterations:6\n"
     ]
    },
    {
     "data": {
      "text/plain": [
       "[<matplotlib.lines.Line2D at 0x7fccdaf8a730>]"
      ]
     },
     "execution_count": 54,
     "metadata": {},
     "output_type": "execute_result"
    },
    {
     "data": {
      "image/png": "[encoded data removed]",
      "text/plain": [
       "<Figure size 576x576 with 1 Axes>"
      ]
     },
     "metadata": {
      "needs_background": "light"
     },
     "output_type": "display_data"
    }
   ],
   "source": [
    "estimate_line = RANSAC_Lines_Criteria()\n",
    "points, finalLine, final_inlierPoints,count = estimate_line.forward(100, 40, 100, 0.4)\n",
    "\n",
    "print(' Set Iterations:{}\\n Termiante Iterations:{}'.format(100, count))\n",
    "\n",
    "left_x = -5\n",
    "left_y = -(finalLine[2] + finalLine[0]*left_x)/finalLine[1]\n",
    "\n",
    "right_x = 8\n",
    "right_y = -(finalLine[2] + finalLine[0]*right_x)/finalLine[1]\n",
    "\n",
    "plt.figure(figsize=(8,8))\n",
    "plt.scatter(points[0], points[1])\n",
    "plt.plot([left_x, right_x], [left_y, right_y], 'r')"
   ]
  },
  {
   "cell_type": "code",
   "execution_count": 55,
   "metadata": {},
   "outputs": [
    {
     "data": {
      "text/plain": [
       "[<matplotlib.lines.Line2D at 0x7fcccbf60cd0>]"
      ]
     },
     "execution_count": 55,
     "metadata": {},
     "output_type": "execute_result"
    },
    {
     "data": {
      "image/png": "[encoded data removed]",
      "text/plain": [
       "<Figure size 576x576 with 1 Axes>"
      ]
     },
     "metadata": {
      "needs_background": "light"
     },
     "output_type": "display_data"
    }
   ],
   "source": [
    "points = (np.array(final_inlierPoints).T)[:2]\n",
    "l = pca_line(points)\n",
    "\n",
    "left_x = -5\n",
    "left_y = -(l[2] + l[0]*left_x)/l[1]\n",
    "\n",
    "right_x = 8\n",
    "right_y = -(l[2] + l[0]*right_x)/l[1]\n",
    "\n",
    "plt.figure(figsize=(8,8))\n",
    "plt.scatter(points[0], points[1])\n",
    "plt.plot([left_x, right_x], [left_y, right_y], 'r')"
   ]
  },
  {
   "cell_type": "code",
   "execution_count": null,
   "metadata": {},
   "outputs": [],
   "source": []
  }
 ],
 "metadata": {
  "kernelspec": {
   "display_name": "Python 3",
   "language": "python",
   "name": "python3"
  },
  "language_info": {
   "codemirror_mode": {
    "name": "ipython",
    "version": 3
   },
   "file_extension": ".py",
   "mimetype": "text/x-python",
   "name": "python",
   "nbconvert_exporter": "python",
   "pygments_lexer": "ipython3",
   "version": "3.8.5"
  }
 },
 "nbformat": 4,
 "nbformat_minor": 4
}
